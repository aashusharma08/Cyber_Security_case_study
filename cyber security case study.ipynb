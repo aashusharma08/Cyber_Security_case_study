{
 "cells": [
  {
   "cell_type": "code",
   "execution_count": 1,
   "metadata": {
    "id": "Q2UkWvxGJvd4"
   },
   "outputs": [],
   "source": [
    "import pandas as pd\n",
    "import numpy as np\n",
    "from sklearn.model_selection import train_test_split\n",
    "from sklearn.preprocessing import StandardScaler, LabelEncoder\n",
    "from sklearn.ensemble import RandomForestClassifier\n",
    "from sklearn.metrics import classification_report, confusion_matrix, accuracy_score\n",
    "from imblearn.over_sampling import SMOTE\n",
    "from sklearn.pipeline import Pipeline"
   ]
  },
  {
   "cell_type": "code",
   "execution_count": 2,
   "metadata": {
    "id": "5xYWdaLxb3x6"
   },
   "outputs": [],
   "source": [
    "column_names = ['duration',               ' protocol_type',\n",
    "                           ' service',                        ' flag',\n",
    "                         ' src_bytes',                   ' dst_bytes',\n",
    "                              ' land',              ' wrong_fragment',\n",
    "                            ' urgent',                         ' hot',\n",
    "                 ' num_failed_logins',                   ' logged_in',\n",
    "                   ' num_compromised',                  ' root_shell',\n",
    "                      ' su_attempted',                    ' num_root',\n",
    "                ' num_file_creations',                  ' num_shells',\n",
    "                  ' num_access_files',           ' num_outbound_cmds',\n",
    "                     ' is_host_login',              ' is_guest_login',\n",
    "                             ' count',                   ' srv_count',\n",
    "                       ' serror_rate',              ' srv_error_rate',\n",
    "                       ' rerror_rate',             ' srv_rerror_rate',\n",
    "                     ' same_srv_rate',               ' diff_srv_rate',\n",
    "                ' srv_diff_host_rate',              ' dst_host_count',\n",
    "                ' dst_host_srv_count',      ' dst_host_same_srv_rate',\n",
    "            ' dst_host_diff_srv_rate', ' dst_host_same_src_port_rate',\n",
    "       ' dst_host_srv_diff_host_rate',        ' dst_host_serror_rate',\n",
    "          ' dst_host_srv_serror_rate',        ' dst_host_rerror_rate',\n",
    "                ' dst_host_srv_rerror_rate']"
   ]
  },
  {
   "cell_type": "code",
   "execution_count": 3,
   "metadata": {
    "id": "zkJIjAkNB8Zp"
   },
   "outputs": [],
   "source": [
    "file_paths = [\n",
    "    'Data_of_Attack_Back.csv',\n",
    "    'Data_of_Attack_Back_BufferOverflow.csv',\n",
    "    'Data_of_Attack_Back_FTPWrite.csv',\n",
    "    'Data_of_Attack_Back_GuessPassword.csv',\n",
    "    'Data_of_Attack_Back_Neptune.csv',\n",
    "    'Data_of_Attack_Back_NMap.csv',\n",
    "    'Data_of_Attack_Back_Normal.csv',\n",
    "    'Data_of_Attack_Back_PortSweep.csv',\n",
    "    'Data_of_Attack_Back_RootKit.csv',\n",
    "    'Data_of_Attack_Back_Satan.csv',\n",
    "    'Data_of_Attack_Back_Smurf.csv',\n",
    "]\n"
   ]
  },
  {
   "cell_type": "code",
   "execution_count": 4,
   "metadata": {},
   "outputs": [],
   "source": [
    "\n",
    "labels = ['Back', 'BufferOverflow', 'FTPWrite', 'GuessPassWord', 'Neptune', 'NMap', 'Normal', 'PortSweep', 'RootKit', 'Satan', 'Smurf']\n",
    "\n"
   ]
  },
  {
   "cell_type": "code",
   "execution_count": 5,
   "metadata": {},
   "outputs": [],
   "source": [
    "dataframes = []\n",
    "for file_paths, label in zip(file_paths, labels):\n",
    "    if label == 'FTPWrite':\n",
    "        df = pd.read_csv(file_paths, header=None, names=column_names)\n",
    "    else:\n",
    "        df = pd.read_csv(file_paths)\n",
    "\n",
    "    df['Label'] = label\n",
    "    dataframes.append(df)\n",
    "\n"
   ]
  },
  {
   "cell_type": "code",
   "execution_count": 6,
   "metadata": {},
   "outputs": [],
   "source": [
    "# Combine into a single DataFrame\n",
    "df = pd.concat(dataframes, ignore_index=True)"
   ]
  },
  {
   "cell_type": "code",
   "execution_count": 7,
   "metadata": {
    "colab": {
     "base_uri": "https://localhost:8080/",
     "height": 444
    },
    "id": "l_ohyvnW8esB",
    "outputId": "a06f3799-34db-433a-c47c-d23afd936b39"
   },
   "outputs": [
    {
     "data": {
      "text/html": [
       "<div>\n",
       "<style scoped>\n",
       "    .dataframe tbody tr th:only-of-type {\n",
       "        vertical-align: middle;\n",
       "    }\n",
       "\n",
       "    .dataframe tbody tr th {\n",
       "        vertical-align: top;\n",
       "    }\n",
       "\n",
       "    .dataframe thead th {\n",
       "        text-align: right;\n",
       "    }\n",
       "</style>\n",
       "<table border=\"1\" class=\"dataframe\">\n",
       "  <thead>\n",
       "    <tr style=\"text-align: right;\">\n",
       "      <th></th>\n",
       "      <th>duration</th>\n",
       "      <th>protocol_type</th>\n",
       "      <th>service</th>\n",
       "      <th>flag</th>\n",
       "      <th>src_bytes</th>\n",
       "      <th>dst_bytes</th>\n",
       "      <th>land</th>\n",
       "      <th>wrong_fragment</th>\n",
       "      <th>urgent</th>\n",
       "      <th>hot</th>\n",
       "      <th>...</th>\n",
       "      <th>dst_host_srv_count</th>\n",
       "      <th>dst_host_same_srv_rate</th>\n",
       "      <th>dst_host_diff_srv_rate</th>\n",
       "      <th>dst_host_same_src_port_rate</th>\n",
       "      <th>dst_host_srv_diff_host_rate</th>\n",
       "      <th>dst_host_serror_rate</th>\n",
       "      <th>dst_host_srv_serror_rate</th>\n",
       "      <th>dst_host_rerror_rate</th>\n",
       "      <th>dst_host_srv_rerror_rate</th>\n",
       "      <th>Label</th>\n",
       "    </tr>\n",
       "  </thead>\n",
       "  <tbody>\n",
       "    <tr>\n",
       "      <th>0</th>\n",
       "      <td>0.0</td>\n",
       "      <td>0.00</td>\n",
       "      <td>0.00</td>\n",
       "      <td>0.0</td>\n",
       "      <td>0.54540</td>\n",
       "      <td>0.08314</td>\n",
       "      <td>0</td>\n",
       "      <td>0.0</td>\n",
       "      <td>0.0</td>\n",
       "      <td>0.2</td>\n",
       "      <td>...</td>\n",
       "      <td>0.001</td>\n",
       "      <td>0.100</td>\n",
       "      <td>0.000</td>\n",
       "      <td>0.100</td>\n",
       "      <td>0.0</td>\n",
       "      <td>0.0</td>\n",
       "      <td>0.0</td>\n",
       "      <td>0.0</td>\n",
       "      <td>0.0</td>\n",
       "      <td>Back</td>\n",
       "    </tr>\n",
       "    <tr>\n",
       "      <th>1</th>\n",
       "      <td>0.0</td>\n",
       "      <td>0.00</td>\n",
       "      <td>0.00</td>\n",
       "      <td>0.0</td>\n",
       "      <td>0.54540</td>\n",
       "      <td>0.08314</td>\n",
       "      <td>0</td>\n",
       "      <td>0.0</td>\n",
       "      <td>0.0</td>\n",
       "      <td>0.2</td>\n",
       "      <td>...</td>\n",
       "      <td>0.002</td>\n",
       "      <td>0.100</td>\n",
       "      <td>0.000</td>\n",
       "      <td>0.050</td>\n",
       "      <td>0.0</td>\n",
       "      <td>0.0</td>\n",
       "      <td>0.0</td>\n",
       "      <td>0.0</td>\n",
       "      <td>0.0</td>\n",
       "      <td>Back</td>\n",
       "    </tr>\n",
       "    <tr>\n",
       "      <th>2</th>\n",
       "      <td>0.0</td>\n",
       "      <td>0.00</td>\n",
       "      <td>0.00</td>\n",
       "      <td>0.0</td>\n",
       "      <td>0.54540</td>\n",
       "      <td>0.08314</td>\n",
       "      <td>0</td>\n",
       "      <td>0.0</td>\n",
       "      <td>0.0</td>\n",
       "      <td>0.2</td>\n",
       "      <td>...</td>\n",
       "      <td>0.003</td>\n",
       "      <td>0.100</td>\n",
       "      <td>0.000</td>\n",
       "      <td>0.033</td>\n",
       "      <td>0.0</td>\n",
       "      <td>0.0</td>\n",
       "      <td>0.0</td>\n",
       "      <td>0.0</td>\n",
       "      <td>0.0</td>\n",
       "      <td>Back</td>\n",
       "    </tr>\n",
       "    <tr>\n",
       "      <th>3</th>\n",
       "      <td>0.0</td>\n",
       "      <td>0.00</td>\n",
       "      <td>0.00</td>\n",
       "      <td>0.0</td>\n",
       "      <td>0.54540</td>\n",
       "      <td>0.08314</td>\n",
       "      <td>0</td>\n",
       "      <td>0.0</td>\n",
       "      <td>0.0</td>\n",
       "      <td>0.2</td>\n",
       "      <td>...</td>\n",
       "      <td>0.004</td>\n",
       "      <td>0.100</td>\n",
       "      <td>0.000</td>\n",
       "      <td>0.025</td>\n",
       "      <td>0.0</td>\n",
       "      <td>0.0</td>\n",
       "      <td>0.0</td>\n",
       "      <td>0.0</td>\n",
       "      <td>0.0</td>\n",
       "      <td>Back</td>\n",
       "    </tr>\n",
       "    <tr>\n",
       "      <th>4</th>\n",
       "      <td>0.0</td>\n",
       "      <td>0.00</td>\n",
       "      <td>0.00</td>\n",
       "      <td>0.0</td>\n",
       "      <td>0.54540</td>\n",
       "      <td>0.08314</td>\n",
       "      <td>0</td>\n",
       "      <td>0.0</td>\n",
       "      <td>0.0</td>\n",
       "      <td>0.2</td>\n",
       "      <td>...</td>\n",
       "      <td>0.005</td>\n",
       "      <td>0.100</td>\n",
       "      <td>0.000</td>\n",
       "      <td>0.020</td>\n",
       "      <td>0.0</td>\n",
       "      <td>0.0</td>\n",
       "      <td>0.0</td>\n",
       "      <td>0.0</td>\n",
       "      <td>0.0</td>\n",
       "      <td>Back</td>\n",
       "    </tr>\n",
       "    <tr>\n",
       "      <th>...</th>\n",
       "      <td>...</td>\n",
       "      <td>...</td>\n",
       "      <td>...</td>\n",
       "      <td>...</td>\n",
       "      <td>...</td>\n",
       "      <td>...</td>\n",
       "      <td>...</td>\n",
       "      <td>...</td>\n",
       "      <td>...</td>\n",
       "      <td>...</td>\n",
       "      <td>...</td>\n",
       "      <td>...</td>\n",
       "      <td>...</td>\n",
       "      <td>...</td>\n",
       "      <td>...</td>\n",
       "      <td>...</td>\n",
       "      <td>...</td>\n",
       "      <td>...</td>\n",
       "      <td>...</td>\n",
       "      <td>...</td>\n",
       "      <td>...</td>\n",
       "    </tr>\n",
       "    <tr>\n",
       "      <th>817546</th>\n",
       "      <td>0.0</td>\n",
       "      <td>0.02</td>\n",
       "      <td>0.09</td>\n",
       "      <td>0.0</td>\n",
       "      <td>0.01032</td>\n",
       "      <td>0.00000</td>\n",
       "      <td>0</td>\n",
       "      <td>0.0</td>\n",
       "      <td>0.0</td>\n",
       "      <td>0.0</td>\n",
       "      <td>...</td>\n",
       "      <td>0.251</td>\n",
       "      <td>0.098</td>\n",
       "      <td>0.001</td>\n",
       "      <td>0.098</td>\n",
       "      <td>0.0</td>\n",
       "      <td>0.0</td>\n",
       "      <td>0.0</td>\n",
       "      <td>0.0</td>\n",
       "      <td>0.0</td>\n",
       "      <td>Smurf</td>\n",
       "    </tr>\n",
       "    <tr>\n",
       "      <th>817547</th>\n",
       "      <td>0.0</td>\n",
       "      <td>0.02</td>\n",
       "      <td>0.09</td>\n",
       "      <td>0.0</td>\n",
       "      <td>0.01032</td>\n",
       "      <td>0.00000</td>\n",
       "      <td>0</td>\n",
       "      <td>0.0</td>\n",
       "      <td>0.0</td>\n",
       "      <td>0.0</td>\n",
       "      <td>...</td>\n",
       "      <td>0.252</td>\n",
       "      <td>0.099</td>\n",
       "      <td>0.001</td>\n",
       "      <td>0.099</td>\n",
       "      <td>0.0</td>\n",
       "      <td>0.0</td>\n",
       "      <td>0.0</td>\n",
       "      <td>0.0</td>\n",
       "      <td>0.0</td>\n",
       "      <td>Smurf</td>\n",
       "    </tr>\n",
       "    <tr>\n",
       "      <th>817548</th>\n",
       "      <td>0.0</td>\n",
       "      <td>0.02</td>\n",
       "      <td>0.09</td>\n",
       "      <td>0.0</td>\n",
       "      <td>0.01032</td>\n",
       "      <td>0.00000</td>\n",
       "      <td>0</td>\n",
       "      <td>0.0</td>\n",
       "      <td>0.0</td>\n",
       "      <td>0.0</td>\n",
       "      <td>...</td>\n",
       "      <td>0.253</td>\n",
       "      <td>0.099</td>\n",
       "      <td>0.001</td>\n",
       "      <td>0.099</td>\n",
       "      <td>0.0</td>\n",
       "      <td>0.0</td>\n",
       "      <td>0.0</td>\n",
       "      <td>0.0</td>\n",
       "      <td>0.0</td>\n",
       "      <td>Smurf</td>\n",
       "    </tr>\n",
       "    <tr>\n",
       "      <th>817549</th>\n",
       "      <td>0.0</td>\n",
       "      <td>0.02</td>\n",
       "      <td>0.09</td>\n",
       "      <td>0.0</td>\n",
       "      <td>0.01032</td>\n",
       "      <td>0.00000</td>\n",
       "      <td>0</td>\n",
       "      <td>0.0</td>\n",
       "      <td>0.0</td>\n",
       "      <td>0.0</td>\n",
       "      <td>...</td>\n",
       "      <td>0.254</td>\n",
       "      <td>0.100</td>\n",
       "      <td>0.001</td>\n",
       "      <td>0.100</td>\n",
       "      <td>0.0</td>\n",
       "      <td>0.0</td>\n",
       "      <td>0.0</td>\n",
       "      <td>0.0</td>\n",
       "      <td>0.0</td>\n",
       "      <td>Smurf</td>\n",
       "    </tr>\n",
       "    <tr>\n",
       "      <th>817550</th>\n",
       "      <td>0.0</td>\n",
       "      <td>0.01</td>\n",
       "      <td>0.12</td>\n",
       "      <td>0.0</td>\n",
       "      <td>0.00028</td>\n",
       "      <td>0.00000</td>\n",
       "      <td>0</td>\n",
       "      <td>0.3</td>\n",
       "      <td>0.0</td>\n",
       "      <td>0.0</td>\n",
       "      <td>...</td>\n",
       "      <td>0.001</td>\n",
       "      <td>0.000</td>\n",
       "      <td>0.001</td>\n",
       "      <td>0.000</td>\n",
       "      <td>0.0</td>\n",
       "      <td>0.0</td>\n",
       "      <td>0.0</td>\n",
       "      <td>0.0</td>\n",
       "      <td>0.0</td>\n",
       "      <td>Smurf</td>\n",
       "    </tr>\n",
       "  </tbody>\n",
       "</table>\n",
       "<p>817551 rows × 42 columns</p>\n",
       "</div>"
      ],
      "text/plain": [
       "        duration   protocol_type   service   flag   src_bytes   dst_bytes  \\\n",
       "0            0.0            0.00      0.00    0.0     0.54540     0.08314   \n",
       "1            0.0            0.00      0.00    0.0     0.54540     0.08314   \n",
       "2            0.0            0.00      0.00    0.0     0.54540     0.08314   \n",
       "3            0.0            0.00      0.00    0.0     0.54540     0.08314   \n",
       "4            0.0            0.00      0.00    0.0     0.54540     0.08314   \n",
       "...          ...             ...       ...    ...         ...         ...   \n",
       "817546       0.0            0.02      0.09    0.0     0.01032     0.00000   \n",
       "817547       0.0            0.02      0.09    0.0     0.01032     0.00000   \n",
       "817548       0.0            0.02      0.09    0.0     0.01032     0.00000   \n",
       "817549       0.0            0.02      0.09    0.0     0.01032     0.00000   \n",
       "817550       0.0            0.01      0.12    0.0     0.00028     0.00000   \n",
       "\n",
       "         land   wrong_fragment   urgent   hot  ...   dst_host_srv_count  \\\n",
       "0           0              0.0      0.0   0.2  ...                0.001   \n",
       "1           0              0.0      0.0   0.2  ...                0.002   \n",
       "2           0              0.0      0.0   0.2  ...                0.003   \n",
       "3           0              0.0      0.0   0.2  ...                0.004   \n",
       "4           0              0.0      0.0   0.2  ...                0.005   \n",
       "...       ...              ...      ...   ...  ...                  ...   \n",
       "817546      0              0.0      0.0   0.0  ...                0.251   \n",
       "817547      0              0.0      0.0   0.0  ...                0.252   \n",
       "817548      0              0.0      0.0   0.0  ...                0.253   \n",
       "817549      0              0.0      0.0   0.0  ...                0.254   \n",
       "817550      0              0.3      0.0   0.0  ...                0.001   \n",
       "\n",
       "         dst_host_same_srv_rate   dst_host_diff_srv_rate  \\\n",
       "0                         0.100                    0.000   \n",
       "1                         0.100                    0.000   \n",
       "2                         0.100                    0.000   \n",
       "3                         0.100                    0.000   \n",
       "4                         0.100                    0.000   \n",
       "...                         ...                      ...   \n",
       "817546                    0.098                    0.001   \n",
       "817547                    0.099                    0.001   \n",
       "817548                    0.099                    0.001   \n",
       "817549                    0.100                    0.001   \n",
       "817550                    0.000                    0.001   \n",
       "\n",
       "         dst_host_same_src_port_rate   dst_host_srv_diff_host_rate  \\\n",
       "0                              0.100                           0.0   \n",
       "1                              0.050                           0.0   \n",
       "2                              0.033                           0.0   \n",
       "3                              0.025                           0.0   \n",
       "4                              0.020                           0.0   \n",
       "...                              ...                           ...   \n",
       "817546                         0.098                           0.0   \n",
       "817547                         0.099                           0.0   \n",
       "817548                         0.099                           0.0   \n",
       "817549                         0.100                           0.0   \n",
       "817550                         0.000                           0.0   \n",
       "\n",
       "         dst_host_serror_rate   dst_host_srv_serror_rate  \\\n",
       "0                         0.0                        0.0   \n",
       "1                         0.0                        0.0   \n",
       "2                         0.0                        0.0   \n",
       "3                         0.0                        0.0   \n",
       "4                         0.0                        0.0   \n",
       "...                       ...                        ...   \n",
       "817546                    0.0                        0.0   \n",
       "817547                    0.0                        0.0   \n",
       "817548                    0.0                        0.0   \n",
       "817549                    0.0                        0.0   \n",
       "817550                    0.0                        0.0   \n",
       "\n",
       "         dst_host_rerror_rate   dst_host_srv_rerror_rate  Label  \n",
       "0                         0.0                        0.0   Back  \n",
       "1                         0.0                        0.0   Back  \n",
       "2                         0.0                        0.0   Back  \n",
       "3                         0.0                        0.0   Back  \n",
       "4                         0.0                        0.0   Back  \n",
       "...                       ...                        ...    ...  \n",
       "817546                    0.0                        0.0  Smurf  \n",
       "817547                    0.0                        0.0  Smurf  \n",
       "817548                    0.0                        0.0  Smurf  \n",
       "817549                    0.0                        0.0  Smurf  \n",
       "817550                    0.0                        0.0  Smurf  \n",
       "\n",
       "[817551 rows x 42 columns]"
      ]
     },
     "execution_count": 7,
     "metadata": {},
     "output_type": "execute_result"
    }
   ],
   "source": [
    "df"
   ]
  },
  {
   "cell_type": "markdown",
   "metadata": {
    "id": "khCaZS51IM2Y"
   },
   "source": [
    "**Data Preprocessing**"
   ]
  },
  {
   "cell_type": "code",
   "execution_count": 8,
   "metadata": {
    "id": "F9iJl1vudbHK"
   },
   "outputs": [],
   "source": [
    "# Drop rows with missing values or fill them\n",
    "df.dropna(inplace=True)  # or data.fillna(0, inplace=True)\n",
    "\n",
    "# Split data into features and target\n",
    "X = df.drop('Label', axis=1)\n",
    "y = df['Label']\n",
    "\n",
    "# Split data into training and testing sets\n",
    "X_train, X_test, y_train, y_test = train_test_split(X, y, test_size=0.2, random_state=42)\n"
   ]
  },
  {
   "cell_type": "code",
   "execution_count": 9,
   "metadata": {
    "id": "6kh2EJQcdbSz"
   },
   "outputs": [],
   "source": [
    "#Handling Imbalanced Data"
   ]
  },
  {
   "cell_type": "code",
   "execution_count": 10,
   "metadata": {
    "id": "H6WQS89PdbkK"
   },
   "outputs": [],
   "source": [
    "smote = SMOTE()\n",
    "X_train_sm, y_train_sm = smote.fit_resample(X_train, y_train)\n"
   ]
  },
  {
   "cell_type": "code",
   "execution_count": 11,
   "metadata": {
    "id": "mODLYRNddbnZ"
   },
   "outputs": [],
   "source": [
    "#Feature Scaling\n",
    "scaler = StandardScaler()\n",
    "X_train_sm = scaler.fit_transform(X_train_sm)\n",
    "X_test = scaler.transform(X_test)\n"
   ]
  },
  {
   "cell_type": "code",
   "execution_count": 12,
   "metadata": {
    "id": "Rq3CsAa3dbp9"
   },
   "outputs": [],
   "source": [
    "#Model Training"
   ]
  },
  {
   "cell_type": "code",
   "execution_count": 13,
   "metadata": {
    "colab": {
     "base_uri": "https://localhost:8080/",
     "height": 75
    },
    "id": "9qpGbegLI_Xh",
    "outputId": "909d3a47-9da9-40af-997b-0890bc32193e"
   },
   "outputs": [],
   "source": [
    "clf = RandomForestClassifier()"
   ]
  },
  {
   "cell_type": "code",
   "execution_count": 14,
   "metadata": {},
   "outputs": [
    {
     "data": {
      "text/html": [
       "<style>#sk-container-id-1 {color: black;}#sk-container-id-1 pre{padding: 0;}#sk-container-id-1 div.sk-toggleable {background-color: white;}#sk-container-id-1 label.sk-toggleable__label {cursor: pointer;display: block;width: 100%;margin-bottom: 0;padding: 0.3em;box-sizing: border-box;text-align: center;}#sk-container-id-1 label.sk-toggleable__label-arrow:before {content: \"▸\";float: left;margin-right: 0.25em;color: #696969;}#sk-container-id-1 label.sk-toggleable__label-arrow:hover:before {color: black;}#sk-container-id-1 div.sk-estimator:hover label.sk-toggleable__label-arrow:before {color: black;}#sk-container-id-1 div.sk-toggleable__content {max-height: 0;max-width: 0;overflow: hidden;text-align: left;background-color: #f0f8ff;}#sk-container-id-1 div.sk-toggleable__content pre {margin: 0.2em;color: black;border-radius: 0.25em;background-color: #f0f8ff;}#sk-container-id-1 input.sk-toggleable__control:checked~div.sk-toggleable__content {max-height: 200px;max-width: 100%;overflow: auto;}#sk-container-id-1 input.sk-toggleable__control:checked~label.sk-toggleable__label-arrow:before {content: \"▾\";}#sk-container-id-1 div.sk-estimator input.sk-toggleable__control:checked~label.sk-toggleable__label {background-color: #d4ebff;}#sk-container-id-1 div.sk-label input.sk-toggleable__control:checked~label.sk-toggleable__label {background-color: #d4ebff;}#sk-container-id-1 input.sk-hidden--visually {border: 0;clip: rect(1px 1px 1px 1px);clip: rect(1px, 1px, 1px, 1px);height: 1px;margin: -1px;overflow: hidden;padding: 0;position: absolute;width: 1px;}#sk-container-id-1 div.sk-estimator {font-family: monospace;background-color: #f0f8ff;border: 1px dotted black;border-radius: 0.25em;box-sizing: border-box;margin-bottom: 0.5em;}#sk-container-id-1 div.sk-estimator:hover {background-color: #d4ebff;}#sk-container-id-1 div.sk-parallel-item::after {content: \"\";width: 100%;border-bottom: 1px solid gray;flex-grow: 1;}#sk-container-id-1 div.sk-label:hover label.sk-toggleable__label {background-color: #d4ebff;}#sk-container-id-1 div.sk-serial::before {content: \"\";position: absolute;border-left: 1px solid gray;box-sizing: border-box;top: 0;bottom: 0;left: 50%;z-index: 0;}#sk-container-id-1 div.sk-serial {display: flex;flex-direction: column;align-items: center;background-color: white;padding-right: 0.2em;padding-left: 0.2em;position: relative;}#sk-container-id-1 div.sk-item {position: relative;z-index: 1;}#sk-container-id-1 div.sk-parallel {display: flex;align-items: stretch;justify-content: center;background-color: white;position: relative;}#sk-container-id-1 div.sk-item::before, #sk-container-id-1 div.sk-parallel-item::before {content: \"\";position: absolute;border-left: 1px solid gray;box-sizing: border-box;top: 0;bottom: 0;left: 50%;z-index: -1;}#sk-container-id-1 div.sk-parallel-item {display: flex;flex-direction: column;z-index: 1;position: relative;background-color: white;}#sk-container-id-1 div.sk-parallel-item:first-child::after {align-self: flex-end;width: 50%;}#sk-container-id-1 div.sk-parallel-item:last-child::after {align-self: flex-start;width: 50%;}#sk-container-id-1 div.sk-parallel-item:only-child::after {width: 0;}#sk-container-id-1 div.sk-dashed-wrapped {border: 1px dashed gray;margin: 0 0.4em 0.5em 0.4em;box-sizing: border-box;padding-bottom: 0.4em;background-color: white;}#sk-container-id-1 div.sk-label label {font-family: monospace;font-weight: bold;display: inline-block;line-height: 1.2em;}#sk-container-id-1 div.sk-label-container {text-align: center;}#sk-container-id-1 div.sk-container {/* jupyter's `normalize.less` sets `[hidden] { display: none; }` but bootstrap.min.css set `[hidden] { display: none !important; }` so we also need the `!important` here to be able to override the default hidden behavior on the sphinx rendered scikit-learn.org. See: https://github.com/scikit-learn/scikit-learn/issues/21755 */display: inline-block !important;position: relative;}#sk-container-id-1 div.sk-text-repr-fallback {display: none;}</style><div id=\"sk-container-id-1\" class=\"sk-top-container\"><div class=\"sk-text-repr-fallback\"><pre>RandomForestClassifier()</pre><b>In a Jupyter environment, please rerun this cell to show the HTML representation or trust the notebook. <br />On GitHub, the HTML representation is unable to render, please try loading this page with nbviewer.org.</b></div><div class=\"sk-container\" hidden><div class=\"sk-item\"><div class=\"sk-estimator sk-toggleable\"><input class=\"sk-toggleable__control sk-hidden--visually\" id=\"sk-estimator-id-1\" type=\"checkbox\" checked><label for=\"sk-estimator-id-1\" class=\"sk-toggleable__label sk-toggleable__label-arrow\">RandomForestClassifier</label><div class=\"sk-toggleable__content\"><pre>RandomForestClassifier()</pre></div></div></div></div></div>"
      ],
      "text/plain": [
       "RandomForestClassifier()"
      ]
     },
     "execution_count": 14,
     "metadata": {},
     "output_type": "execute_result"
    }
   ],
   "source": [
    "clf.fit(X_train_sm, y_train_sm)"
   ]
  },
  {
   "cell_type": "markdown",
   "metadata": {
    "id": "nur199GaLKmT"
   },
   "source": [
    "**Model Evaluation**"
   ]
  },
  {
   "cell_type": "code",
   "execution_count": 15,
   "metadata": {
    "colab": {
     "base_uri": "https://localhost:8080/"
    },
    "id": "w8PMBcgyKQ4e",
    "outputId": "79a8672d-6268-4923-c8f9-f50e9927b3fc"
   },
   "outputs": [],
   "source": [
    "y_pred = clf.predict(X_test)"
   ]
  },
  {
   "cell_type": "code",
   "execution_count": 16,
   "metadata": {},
   "outputs": [
    {
     "name": "stderr",
     "output_type": "stream",
     "text": [
      "C:\\Users\\Asus\\anaconda3\\Lib\\site-packages\\sklearn\\metrics\\_classification.py:1469: UndefinedMetricWarning: Precision and F-score are ill-defined and being set to 0.0 in labels with no predicted samples. Use `zero_division` parameter to control this behavior.\n",
      "  _warn_prf(average, modifier, msg_start, len(result))\n",
      "C:\\Users\\Asus\\anaconda3\\Lib\\site-packages\\sklearn\\metrics\\_classification.py:1469: UndefinedMetricWarning: Precision and F-score are ill-defined and being set to 0.0 in labels with no predicted samples. Use `zero_division` parameter to control this behavior.\n",
      "  _warn_prf(average, modifier, msg_start, len(result))\n",
      "C:\\Users\\Asus\\anaconda3\\Lib\\site-packages\\sklearn\\metrics\\_classification.py:1469: UndefinedMetricWarning: Precision and F-score are ill-defined and being set to 0.0 in labels with no predicted samples. Use `zero_division` parameter to control this behavior.\n",
      "  _warn_prf(average, modifier, msg_start, len(result))\n"
     ]
    },
    {
     "name": "stdout",
     "output_type": "stream",
     "text": [
      "                precision    recall  f1-score   support\n",
      "\n",
      "          Back       0.99      1.00      1.00       192\n",
      "BufferOverflow       1.00      0.62      0.77         8\n",
      "      FTPWrite       1.00      1.00      1.00         1\n",
      " GuessPassWord       1.00      1.00      1.00         9\n",
      "          NMap       0.99      1.00      1.00       301\n",
      "       Neptune       1.00      1.00      1.00     45575\n",
      "        Normal       1.00      1.00      1.00    115143\n",
      "     PortSweep       1.00      1.00      1.00       582\n",
      "       RootKit       0.00      0.00      0.00         3\n",
      "         Satan       1.00      1.00      1.00      1098\n",
      "         Smurf       1.00      1.00      1.00       599\n",
      "\n",
      "      accuracy                           1.00    163511\n",
      "     macro avg       0.91      0.87      0.89    163511\n",
      "  weighted avg       1.00      1.00      1.00    163511\n",
      "\n",
      "Accuracy: 0.9998899156631664\n"
     ]
    }
   ],
   "source": [
    "# Print classification report and accuracy\n",
    "print(classification_report(y_test, y_pred))\n",
    "print(\"Accuracy:\", accuracy_score(y_test, y_pred))"
   ]
  },
  {
   "cell_type": "code",
   "execution_count": 17,
   "metadata": {},
   "outputs": [
    {
     "name": "stdout",
     "output_type": "stream",
     "text": [
      "Confusion Matrix:\n",
      "[[   192      0      0      0      0      0      0      0      0      0\n",
      "       0]\n",
      " [     0      5      0      0      0      0      3      0      0      0\n",
      "       0]\n",
      " [     0      0      1      0      0      0      0      0      0      0\n",
      "       0]\n",
      " [     0      0      0      9      0      0      0      0      0      0\n",
      "       0]\n",
      " [     0      0      0      0    301      0      0      0      0      0\n",
      "       0]\n",
      " [     0      0      0      0      0  45575      0      0      0      0\n",
      "       0]\n",
      " [     1      0      0      0      2      0 115137      1      0      2\n",
      "       0]\n",
      " [     0      0      0      0      0      0      1    581      0      0\n",
      "       0]\n",
      " [     0      0      0      0      0      0      2      0      0      1\n",
      "       0]\n",
      " [     0      0      0      0      0      0      4      1      0   1093\n",
      "       0]\n",
      " [     0      0      0      0      0      0      0      0      0      0\n",
      "     599]]\n"
     ]
    }
   ],
   "source": [
    "# Print confusion matrix\n",
    "print(\"Confusion Matrix:\")\n",
    "print(confusion_matrix(y_test, y_pred))"
   ]
  },
  {
   "cell_type": "markdown",
   "metadata": {
    "id": "xSh3muLnRq3f"
   },
   "source": [
    "**Q1.Binomial classification: Detect anomalies by predicting Activity is normal or attack**"
   ]
  },
  {
   "cell_type": "code",
   "execution_count": 18,
   "metadata": {
    "id": "cT0c8ffdKQyc"
   },
   "outputs": [],
   "source": [
    "#Create a Binary Target Variable\n",
    "df['Binary_Label'] = df['Label'].apply(lambda x: 0 if x == 'Normal' else 1)"
   ]
  },
  {
   "cell_type": "code",
   "execution_count": 19,
   "metadata": {
    "id": "ufByFb4IKQu1"
   },
   "outputs": [],
   "source": [
    "# Features (drop the 'Label' and 'Binary_Label' columns)\n",
    "X = df.drop(['Label', 'Binary_Label'], axis=1)"
   ]
  },
  {
   "cell_type": "code",
   "execution_count": 20,
   "metadata": {},
   "outputs": [],
   "source": [
    "# Binary target variable\n",
    "y_bin = df['Binary_Label']"
   ]
  },
  {
   "cell_type": "code",
   "execution_count": 21,
   "metadata": {},
   "outputs": [],
   "source": [
    "# Split data into training and testing sets\n",
    "X_train_bin, X_test_bin, y_train_bin, y_test_bin = train_test_split(X, y_bin, test_size=0.2, random_state=42)"
   ]
  },
  {
   "cell_type": "code",
   "execution_count": 22,
   "metadata": {
    "id": "ydlnyMraKQlM"
   },
   "outputs": [],
   "source": [
    "#Train a Model\n",
    "from sklearn.linear_model import LogisticRegression"
   ]
  },
  {
   "cell_type": "code",
   "execution_count": 23,
   "metadata": {},
   "outputs": [],
   "source": [
    "# Initialize the Logistic Regression model\n",
    "log_reg_bin = LogisticRegression(max_iter=1000)  # Increase max_iter if the model fails to converge"
   ]
  },
  {
   "cell_type": "code",
   "execution_count": 24,
   "metadata": {},
   "outputs": [
    {
     "data": {
      "text/html": [
       "<style>#sk-container-id-2 {color: black;}#sk-container-id-2 pre{padding: 0;}#sk-container-id-2 div.sk-toggleable {background-color: white;}#sk-container-id-2 label.sk-toggleable__label {cursor: pointer;display: block;width: 100%;margin-bottom: 0;padding: 0.3em;box-sizing: border-box;text-align: center;}#sk-container-id-2 label.sk-toggleable__label-arrow:before {content: \"▸\";float: left;margin-right: 0.25em;color: #696969;}#sk-container-id-2 label.sk-toggleable__label-arrow:hover:before {color: black;}#sk-container-id-2 div.sk-estimator:hover label.sk-toggleable__label-arrow:before {color: black;}#sk-container-id-2 div.sk-toggleable__content {max-height: 0;max-width: 0;overflow: hidden;text-align: left;background-color: #f0f8ff;}#sk-container-id-2 div.sk-toggleable__content pre {margin: 0.2em;color: black;border-radius: 0.25em;background-color: #f0f8ff;}#sk-container-id-2 input.sk-toggleable__control:checked~div.sk-toggleable__content {max-height: 200px;max-width: 100%;overflow: auto;}#sk-container-id-2 input.sk-toggleable__control:checked~label.sk-toggleable__label-arrow:before {content: \"▾\";}#sk-container-id-2 div.sk-estimator input.sk-toggleable__control:checked~label.sk-toggleable__label {background-color: #d4ebff;}#sk-container-id-2 div.sk-label input.sk-toggleable__control:checked~label.sk-toggleable__label {background-color: #d4ebff;}#sk-container-id-2 input.sk-hidden--visually {border: 0;clip: rect(1px 1px 1px 1px);clip: rect(1px, 1px, 1px, 1px);height: 1px;margin: -1px;overflow: hidden;padding: 0;position: absolute;width: 1px;}#sk-container-id-2 div.sk-estimator {font-family: monospace;background-color: #f0f8ff;border: 1px dotted black;border-radius: 0.25em;box-sizing: border-box;margin-bottom: 0.5em;}#sk-container-id-2 div.sk-estimator:hover {background-color: #d4ebff;}#sk-container-id-2 div.sk-parallel-item::after {content: \"\";width: 100%;border-bottom: 1px solid gray;flex-grow: 1;}#sk-container-id-2 div.sk-label:hover label.sk-toggleable__label {background-color: #d4ebff;}#sk-container-id-2 div.sk-serial::before {content: \"\";position: absolute;border-left: 1px solid gray;box-sizing: border-box;top: 0;bottom: 0;left: 50%;z-index: 0;}#sk-container-id-2 div.sk-serial {display: flex;flex-direction: column;align-items: center;background-color: white;padding-right: 0.2em;padding-left: 0.2em;position: relative;}#sk-container-id-2 div.sk-item {position: relative;z-index: 1;}#sk-container-id-2 div.sk-parallel {display: flex;align-items: stretch;justify-content: center;background-color: white;position: relative;}#sk-container-id-2 div.sk-item::before, #sk-container-id-2 div.sk-parallel-item::before {content: \"\";position: absolute;border-left: 1px solid gray;box-sizing: border-box;top: 0;bottom: 0;left: 50%;z-index: -1;}#sk-container-id-2 div.sk-parallel-item {display: flex;flex-direction: column;z-index: 1;position: relative;background-color: white;}#sk-container-id-2 div.sk-parallel-item:first-child::after {align-self: flex-end;width: 50%;}#sk-container-id-2 div.sk-parallel-item:last-child::after {align-self: flex-start;width: 50%;}#sk-container-id-2 div.sk-parallel-item:only-child::after {width: 0;}#sk-container-id-2 div.sk-dashed-wrapped {border: 1px dashed gray;margin: 0 0.4em 0.5em 0.4em;box-sizing: border-box;padding-bottom: 0.4em;background-color: white;}#sk-container-id-2 div.sk-label label {font-family: monospace;font-weight: bold;display: inline-block;line-height: 1.2em;}#sk-container-id-2 div.sk-label-container {text-align: center;}#sk-container-id-2 div.sk-container {/* jupyter's `normalize.less` sets `[hidden] { display: none; }` but bootstrap.min.css set `[hidden] { display: none !important; }` so we also need the `!important` here to be able to override the default hidden behavior on the sphinx rendered scikit-learn.org. See: https://github.com/scikit-learn/scikit-learn/issues/21755 */display: inline-block !important;position: relative;}#sk-container-id-2 div.sk-text-repr-fallback {display: none;}</style><div id=\"sk-container-id-2\" class=\"sk-top-container\"><div class=\"sk-text-repr-fallback\"><pre>LogisticRegression(max_iter=1000)</pre><b>In a Jupyter environment, please rerun this cell to show the HTML representation or trust the notebook. <br />On GitHub, the HTML representation is unable to render, please try loading this page with nbviewer.org.</b></div><div class=\"sk-container\" hidden><div class=\"sk-item\"><div class=\"sk-estimator sk-toggleable\"><input class=\"sk-toggleable__control sk-hidden--visually\" id=\"sk-estimator-id-2\" type=\"checkbox\" checked><label for=\"sk-estimator-id-2\" class=\"sk-toggleable__label sk-toggleable__label-arrow\">LogisticRegression</label><div class=\"sk-toggleable__content\"><pre>LogisticRegression(max_iter=1000)</pre></div></div></div></div></div>"
      ],
      "text/plain": [
       "LogisticRegression(max_iter=1000)"
      ]
     },
     "execution_count": 24,
     "metadata": {},
     "output_type": "execute_result"
    }
   ],
   "source": [
    "# Fit the model to the training data\n",
    "log_reg_bin.fit(X_train_bin, y_train_bin)"
   ]
  },
  {
   "cell_type": "code",
   "execution_count": 25,
   "metadata": {},
   "outputs": [],
   "source": [
    "# Predict on the testing set\n",
    "y_pred_bin = log_reg_bin.predict(X_test_bin)"
   ]
  },
  {
   "cell_type": "code",
   "execution_count": 26,
   "metadata": {
    "colab": {
     "base_uri": "https://localhost:8080/"
    },
    "id": "ASt8RIm6KQhs",
    "outputId": "61770513-0bf2-482f-c3ce-c6357be57e7f"
   },
   "outputs": [
    {
     "name": "stdout",
     "output_type": "stream",
     "text": [
      "              precision    recall  f1-score   support\n",
      "\n",
      "           0       0.99      1.00      1.00    115143\n",
      "           1       1.00      0.99      0.99     48368\n",
      "\n",
      "    accuracy                           0.99    163511\n",
      "   macro avg       1.00      0.99      0.99    163511\n",
      "weighted avg       0.99      0.99      0.99    163511\n",
      "\n"
     ]
    }
   ],
   "source": [
    "#Evaluate the Model\n",
    "\n",
    "# Print the classification report to see precision, recall, and F1-score\n",
    "print(classification_report(y_test_bin, y_pred_bin))"
   ]
  },
  {
   "cell_type": "code",
   "execution_count": 27,
   "metadata": {},
   "outputs": [
    {
     "name": "stdout",
     "output_type": "stream",
     "text": [
      "[[114954    189]\n",
      " [   649  47719]]\n"
     ]
    }
   ],
   "source": [
    "# Print the confusion matrix\n",
    "print(confusion_matrix(y_test_bin, y_pred_bin))"
   ]
  },
  {
   "cell_type": "markdown",
   "metadata": {
    "id": "-acc4NmXS1Rw"
   },
   "source": [
    "Precision for both classes (normal activities and attacks) is very high, near or at 1.00, indicating that the model has a very high accuracy in predicting positive samples.\n",
    "\n",
    "Recall is also impressive, especially for the normal activities (1.00), indicating that the model is almost perfect in identifying all the actual normal activities. For attacks, the recall is slightly lower (0.99), but still very high, indicating that the model identifies most of the actual attacks correctly.\n",
    "\n",
    "F1-score, which is the harmonic mean of precision and recall, is near perfect for both classes, reinforcing the model's balanced performance in terms of precision and recall.\n",
    "\n",
    "The confusion matrix further clarifies the results:\n",
    "\n",
    "Out of 115,143 true normal activities, 114,954 were correctly classified as normal, with only 189 misclassified as attacks.\n",
    "Out of 48,368 true attacks, 47,719 were correctly identified, with 649 misclassified as normal activities.\n",
    "The accuracy of 0.99 suggests that the model correctly predicts the class for 99% of the cases in your test set."
   ]
  },
  {
   "cell_type": "code",
   "execution_count": null,
   "metadata": {
    "id": "lhvfnSZKKQbh"
   },
   "outputs": [],
   "source": []
  },
  {
   "cell_type": "markdown",
   "metadata": {
    "id": "MSoxQWmaTfzO"
   },
   "source": [
    "Q2 .\n",
    "Multinomial Classification: Detecting type of activity by predicting Activity is Normal or Back or\n",
    "Buffer Over flow or FTP Write or Guess Password or Neptune or N-Map or Port Sweep or Root Kit or\n",
    "Satan or Smurf"
   ]
  },
  {
   "cell_type": "code",
   "execution_count": 28,
   "metadata": {
    "colab": {
     "base_uri": "https://localhost:8080/"
    },
    "id": "vxJvZ-_7KQQ0",
    "outputId": "1009dc68-69ff-4cad-e853-b8bb00ea94a3"
   },
   "outputs": [],
   "source": [
    "# Separate features and target variable\n",
    "X = df.drop('Label', axis=1)  # Drop the 'Label' column to get the features\n",
    "y = df['Label']  # Target variable is the activity type"
   ]
  },
  {
   "cell_type": "code",
   "execution_count": 29,
   "metadata": {},
   "outputs": [],
   "source": [
    "# Split the data into training and testing sets\n",
    "X_train, X_test, y_train, y_test = train_test_split(X, y, test_size=0.2, random_state=42)"
   ]
  },
  {
   "cell_type": "code",
   "execution_count": 30,
   "metadata": {},
   "outputs": [],
   "source": [
    "# Create a pipeline that first standardizes the data then applies the classifier\n",
    "pipeline = Pipeline([\n",
    "    ('scaler', StandardScaler()),\n",
    "    ('classifier', RandomForestClassifier())\n",
    "])"
   ]
  },
  {
   "cell_type": "code",
   "execution_count": 31,
   "metadata": {},
   "outputs": [
    {
     "data": {
      "text/html": [
       "<style>#sk-container-id-3 {color: black;}#sk-container-id-3 pre{padding: 0;}#sk-container-id-3 div.sk-toggleable {background-color: white;}#sk-container-id-3 label.sk-toggleable__label {cursor: pointer;display: block;width: 100%;margin-bottom: 0;padding: 0.3em;box-sizing: border-box;text-align: center;}#sk-container-id-3 label.sk-toggleable__label-arrow:before {content: \"▸\";float: left;margin-right: 0.25em;color: #696969;}#sk-container-id-3 label.sk-toggleable__label-arrow:hover:before {color: black;}#sk-container-id-3 div.sk-estimator:hover label.sk-toggleable__label-arrow:before {color: black;}#sk-container-id-3 div.sk-toggleable__content {max-height: 0;max-width: 0;overflow: hidden;text-align: left;background-color: #f0f8ff;}#sk-container-id-3 div.sk-toggleable__content pre {margin: 0.2em;color: black;border-radius: 0.25em;background-color: #f0f8ff;}#sk-container-id-3 input.sk-toggleable__control:checked~div.sk-toggleable__content {max-height: 200px;max-width: 100%;overflow: auto;}#sk-container-id-3 input.sk-toggleable__control:checked~label.sk-toggleable__label-arrow:before {content: \"▾\";}#sk-container-id-3 div.sk-estimator input.sk-toggleable__control:checked~label.sk-toggleable__label {background-color: #d4ebff;}#sk-container-id-3 div.sk-label input.sk-toggleable__control:checked~label.sk-toggleable__label {background-color: #d4ebff;}#sk-container-id-3 input.sk-hidden--visually {border: 0;clip: rect(1px 1px 1px 1px);clip: rect(1px, 1px, 1px, 1px);height: 1px;margin: -1px;overflow: hidden;padding: 0;position: absolute;width: 1px;}#sk-container-id-3 div.sk-estimator {font-family: monospace;background-color: #f0f8ff;border: 1px dotted black;border-radius: 0.25em;box-sizing: border-box;margin-bottom: 0.5em;}#sk-container-id-3 div.sk-estimator:hover {background-color: #d4ebff;}#sk-container-id-3 div.sk-parallel-item::after {content: \"\";width: 100%;border-bottom: 1px solid gray;flex-grow: 1;}#sk-container-id-3 div.sk-label:hover label.sk-toggleable__label {background-color: #d4ebff;}#sk-container-id-3 div.sk-serial::before {content: \"\";position: absolute;border-left: 1px solid gray;box-sizing: border-box;top: 0;bottom: 0;left: 50%;z-index: 0;}#sk-container-id-3 div.sk-serial {display: flex;flex-direction: column;align-items: center;background-color: white;padding-right: 0.2em;padding-left: 0.2em;position: relative;}#sk-container-id-3 div.sk-item {position: relative;z-index: 1;}#sk-container-id-3 div.sk-parallel {display: flex;align-items: stretch;justify-content: center;background-color: white;position: relative;}#sk-container-id-3 div.sk-item::before, #sk-container-id-3 div.sk-parallel-item::before {content: \"\";position: absolute;border-left: 1px solid gray;box-sizing: border-box;top: 0;bottom: 0;left: 50%;z-index: -1;}#sk-container-id-3 div.sk-parallel-item {display: flex;flex-direction: column;z-index: 1;position: relative;background-color: white;}#sk-container-id-3 div.sk-parallel-item:first-child::after {align-self: flex-end;width: 50%;}#sk-container-id-3 div.sk-parallel-item:last-child::after {align-self: flex-start;width: 50%;}#sk-container-id-3 div.sk-parallel-item:only-child::after {width: 0;}#sk-container-id-3 div.sk-dashed-wrapped {border: 1px dashed gray;margin: 0 0.4em 0.5em 0.4em;box-sizing: border-box;padding-bottom: 0.4em;background-color: white;}#sk-container-id-3 div.sk-label label {font-family: monospace;font-weight: bold;display: inline-block;line-height: 1.2em;}#sk-container-id-3 div.sk-label-container {text-align: center;}#sk-container-id-3 div.sk-container {/* jupyter's `normalize.less` sets `[hidden] { display: none; }` but bootstrap.min.css set `[hidden] { display: none !important; }` so we also need the `!important` here to be able to override the default hidden behavior on the sphinx rendered scikit-learn.org. See: https://github.com/scikit-learn/scikit-learn/issues/21755 */display: inline-block !important;position: relative;}#sk-container-id-3 div.sk-text-repr-fallback {display: none;}</style><div id=\"sk-container-id-3\" class=\"sk-top-container\"><div class=\"sk-text-repr-fallback\"><pre>Pipeline(steps=[(&#x27;scaler&#x27;, StandardScaler()),\n",
       "                (&#x27;classifier&#x27;, RandomForestClassifier())])</pre><b>In a Jupyter environment, please rerun this cell to show the HTML representation or trust the notebook. <br />On GitHub, the HTML representation is unable to render, please try loading this page with nbviewer.org.</b></div><div class=\"sk-container\" hidden><div class=\"sk-item sk-dashed-wrapped\"><div class=\"sk-label-container\"><div class=\"sk-label sk-toggleable\"><input class=\"sk-toggleable__control sk-hidden--visually\" id=\"sk-estimator-id-3\" type=\"checkbox\" ><label for=\"sk-estimator-id-3\" class=\"sk-toggleable__label sk-toggleable__label-arrow\">Pipeline</label><div class=\"sk-toggleable__content\"><pre>Pipeline(steps=[(&#x27;scaler&#x27;, StandardScaler()),\n",
       "                (&#x27;classifier&#x27;, RandomForestClassifier())])</pre></div></div></div><div class=\"sk-serial\"><div class=\"sk-item\"><div class=\"sk-estimator sk-toggleable\"><input class=\"sk-toggleable__control sk-hidden--visually\" id=\"sk-estimator-id-4\" type=\"checkbox\" ><label for=\"sk-estimator-id-4\" class=\"sk-toggleable__label sk-toggleable__label-arrow\">StandardScaler</label><div class=\"sk-toggleable__content\"><pre>StandardScaler()</pre></div></div></div><div class=\"sk-item\"><div class=\"sk-estimator sk-toggleable\"><input class=\"sk-toggleable__control sk-hidden--visually\" id=\"sk-estimator-id-5\" type=\"checkbox\" ><label for=\"sk-estimator-id-5\" class=\"sk-toggleable__label sk-toggleable__label-arrow\">RandomForestClassifier</label><div class=\"sk-toggleable__content\"><pre>RandomForestClassifier()</pre></div></div></div></div></div></div></div>"
      ],
      "text/plain": [
       "Pipeline(steps=[('scaler', StandardScaler()),\n",
       "                ('classifier', RandomForestClassifier())])"
      ]
     },
     "execution_count": 31,
     "metadata": {},
     "output_type": "execute_result"
    }
   ],
   "source": [
    "# Train the model\n",
    "pipeline.fit(X_train, y_train)"
   ]
  },
  {
   "cell_type": "code",
   "execution_count": 32,
   "metadata": {},
   "outputs": [],
   "source": [
    "# Predict on the test set\n",
    "y_pred = pipeline.predict(X_test)"
   ]
  },
  {
   "cell_type": "code",
   "execution_count": 33,
   "metadata": {},
   "outputs": [
    {
     "name": "stdout",
     "output_type": "stream",
     "text": [
      "Classification Report:\n",
      "                precision    recall  f1-score   support\n",
      "\n",
      "          Back       1.00      1.00      1.00       192\n",
      "BufferOverflow       1.00      0.88      0.93         8\n",
      "      FTPWrite       0.50      1.00      0.67         1\n",
      " GuessPassWord       1.00      1.00      1.00         9\n",
      "          NMap       0.99      1.00      1.00       301\n",
      "       Neptune       1.00      1.00      1.00     45575\n",
      "        Normal       1.00      1.00      1.00    115143\n",
      "     PortSweep       1.00      1.00      1.00       582\n",
      "       RootKit       1.00      0.33      0.50         3\n",
      "         Satan       1.00      1.00      1.00      1098\n",
      "         Smurf       1.00      1.00      1.00       599\n",
      "\n",
      "      accuracy                           1.00    163511\n",
      "     macro avg       0.95      0.93      0.92    163511\n",
      "  weighted avg       1.00      1.00      1.00    163511\n",
      "\n",
      "Confusion Matrix:\n",
      "[[115143      0      0      0      0      0      0      0      0      0\n",
      "       0]\n",
      " [     0    192      0      0      0      0      0      0      0      0\n",
      "       0]\n",
      " [     0      0      0      0      0      0      0      0      0      0\n",
      "       0]\n",
      " [     0      0      0      0      0      0      0      0      0      0\n",
      "       0]\n",
      " [     0      0      0      0      0      0      0      0      0      0\n",
      "       0]\n",
      " [     0      0      0      0      0  45575      0      0      0      0\n",
      "       0]\n",
      " [     0      0      0      0      0      0      0      0      0      0\n",
      "       0]\n",
      " [     0      0      0      0      0      0      0      0      0      0\n",
      "       0]\n",
      " [     0      0      0      0      0      0      0      0      0      0\n",
      "       0]\n",
      " [     0      0      0      0      0      0      0      0      0   1096\n",
      "       0]\n",
      " [     0      0      0      0      0      0      0      0      0      0\n",
      "     599]]\n"
     ]
    }
   ],
   "source": [
    "# Evaluate the model\n",
    "print(\"Classification Report:\")\n",
    "print(classification_report(y_test, y_pred))\n",
    "\n",
    "print(\"Confusion Matrix:\")\n",
    "print(confusion_matrix(y_test, y_pred, labels=['Normal', 'Back', 'Buffer Overflow', 'FTP Write', 'Guess Password', 'Neptune', 'N-Map', 'Port Sweep', 'Root Kit', 'Satan', 'Smurf']))\n"
   ]
  },
  {
   "cell_type": "code",
   "execution_count": 34,
   "metadata": {},
   "outputs": [
    {
     "name": "stdout",
     "output_type": "stream",
     "text": [
      "Confusion Matrix for Binary Classification:\n",
      "[[114954    189]\n",
      " [   649  47719]]\n"
     ]
    }
   ],
   "source": [
    "# Print confusion matrix\n",
    "print(\"Confusion Matrix for Binary Classification:\")\n",
    "print(confusion_matrix(y_test_bin, y_pred_bin))\n"
   ]
  },
  {
   "cell_type": "code",
   "execution_count": 35,
   "metadata": {},
   "outputs": [
    {
     "name": "stdout",
     "output_type": "stream",
     "text": [
      "Classification Report for Multinomial Classification:\n",
      "                precision    recall  f1-score   support\n",
      "\n",
      "          Back       1.00      1.00      1.00       192\n",
      "BufferOverflow       1.00      0.88      0.93         8\n",
      "      FTPWrite       0.50      1.00      0.67         1\n",
      " GuessPassWord       1.00      1.00      1.00         9\n",
      "          NMap       0.99      1.00      1.00       301\n",
      "       Neptune       1.00      1.00      1.00     45575\n",
      "        Normal       1.00      1.00      1.00    115143\n",
      "     PortSweep       1.00      1.00      1.00       582\n",
      "       RootKit       1.00      0.33      0.50         3\n",
      "         Satan       1.00      1.00      1.00      1098\n",
      "         Smurf       1.00      1.00      1.00       599\n",
      "\n",
      "      accuracy                           1.00    163511\n",
      "     macro avg       0.95      0.93      0.92    163511\n",
      "  weighted avg       1.00      1.00      1.00    163511\n",
      "\n",
      "Confusion Matrix for Multinomial Classification:\n",
      "[[   192      0      0      0      0      0      0      0      0      0\n",
      "       0]\n",
      " [     0      7      1      0      0      0      0      0      0      0\n",
      "       0]\n",
      " [     0      0      1      0      0      0      0      0      0      0\n",
      "       0]\n",
      " [     0      0      0      9      0      0      0      0      0      0\n",
      "       0]\n",
      " [     0      0      0      0  45575      0      0      0      0      0\n",
      "       0]\n",
      " [     0      0      0      0      0    301      0      0      0      0\n",
      "       0]\n",
      " [     0      0      0      0      0      0 115143      0      0      0\n",
      "       0]\n",
      " [     0      0      0      0      0      0      0    582      0      0\n",
      "       0]\n",
      " [     0      0      0      0      0      1      0      0      1      1\n",
      "       0]\n",
      " [     0      0      0      0      0      1      0      1      0   1096\n",
      "       0]\n",
      " [     0      0      0      0      0      0      0      0      0      0\n",
      "     599]]\n"
     ]
    }
   ],
   "source": [
    "# Print classification report\n",
    "print(\"Classification Report for Multinomial Classification:\")\n",
    "print(classification_report(y_test, y_pred))\n",
    "\n",
    "# Print confusion matrix\n",
    "print(\"Confusion Matrix for Multinomial Classification:\")\n",
    "print(confusion_matrix(y_test, y_pred, labels=labels))\n"
   ]
  },
  {
   "cell_type": "code",
   "execution_count": null,
   "metadata": {},
   "outputs": [],
   "source": []
  },
  {
   "cell_type": "code",
   "execution_count": null,
   "metadata": {},
   "outputs": [],
   "source": []
  },
  {
   "cell_type": "code",
   "execution_count": null,
   "metadata": {},
   "outputs": [],
   "source": []
  },
  {
   "cell_type": "markdown",
   "metadata": {
    "id": "8m_-49quWrij"
   },
   "source": [
    "Overall Performance:\n",
    "\n",
    "High Accuracy: The model achieves near-perfect accuracy (100%) across the board, which is excellent for a multiclass classification problem.\n",
    "Precision and Recall: For most activity types, both precision and recall are very high, often reaching 1.00, indicating the model's strong capability to correctly identify and classify different types of network activities.\n",
    "\n",
    "\n",
    "Observations:\n",
    "\n",
    "\n",
    "1.Neptune and Normal Activities: The model performs exceptionally well in identifying 'Neptune' and 'Normal' activities, which have the highest number of instances, with perfect precision and recall scores.\n",
    "\n",
    "2.Buffer Overflow and RootKit: These categories have lower sample sizes and show some variation in recall scores ('BufferOverflow' at 0.88 and 'RootKit' at 0.33), suggesting the model may struggle slightly more with these less-represented classes.\n",
    "\n",
    "3.FTPWrite: Despite having only one instance in the test set, the model identified it correctly, though the precision is lower (0.50) due to the model's overprediction in this category.\n",
    "\n",
    "Areas for Improvement:\n",
    "\n",
    "1.Handling Rare Classes: The variance in performance for 'BufferOverflow' and 'RootKit' points to potential challenges in handling rare classes. Techniques like oversampling, synthetic data generation (SMOTE), or cost-sensitive learning might improve performance in these categories.\n",
    "\n",
    "2.FTPWrite Misclassification: The model's overprediction for 'FTPWrite' suggests a need for further investigation. It might be beneficial to explore feature relevance for this category or adjust class weighting to mitigate this bias."
   ]
  }
 ],
 "metadata": {
  "colab": {
   "provenance": []
  },
  "kernelspec": {
   "display_name": "Python 3 (ipykernel)",
   "language": "python",
   "name": "python3"
  },
  "language_info": {
   "codemirror_mode": {
    "name": "ipython",
    "version": 3
   },
   "file_extension": ".py",
   "mimetype": "text/x-python",
   "name": "python",
   "nbconvert_exporter": "python",
   "pygments_lexer": "ipython3",
   "version": "3.11.4"
  }
 },
 "nbformat": 4,
 "nbformat_minor": 1
}
